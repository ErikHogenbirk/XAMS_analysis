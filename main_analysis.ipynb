{
 "cells": [
  {
   "cell_type": "code",
   "execution_count": 15,
   "metadata": {
    "collapsed": false
   },
   "outputs": [],
   "source": [
    "# Notebookloader is needed to import ipython notebooks as python modules.\n",
    "import NotebookLoader\n",
    "import Function_definitions as fn\n",
    "import numpy as np\n",
    "import matplotlib.pyplot as plt\n",
    "%matplotlib inline\n",
    "import h5py\n",
    "import units\n",
    "from recarray_tools import append_fields\n",
    "from tqdm import tqdm"
   ]
  },
  {
   "cell_type": "code",
   "execution_count": 2,
   "metadata": {
    "collapsed": false
   },
   "outputs": [
    {
     "name": "stdout",
     "output_type": "stream",
     "text": [
      "Number of events:  343881\n"
     ]
    }
   ],
   "source": [
    "# Open the file\n",
    "store = h5py.File('D:/Documenten/PhD/Data/run6_hdf/run-6_measurement-001.hdf5')\n",
    "\n",
    "# Slurp all events and peaks in to memory\n",
    "events = store['Event'][:]\n",
    "peaks = store['Peak'][:]\n",
    "n_events = len(events)\n",
    "print(\"Number of events: \",n_events)"
   ]
  },
  {
   "cell_type": "code",
   "execution_count": 3,
   "metadata": {
    "collapsed": false
   },
   "outputs": [],
   "source": [
    "# Append fields to the event and peak list. Only the ones that can be directly determined from the events lists\n",
    "# full range: the total time of the peak.\n",
    "peaks = append_fields(peaks, 'width', (peaks['right'] - peaks['left'] + 1)*fn.dt)\n",
    "peaks = append_fields(peaks,'mid',peaks['left']*fn.dt + 0.5* peaks['width'])\n",
    "\n",
    "# Recalculate because of wrong ordering\n",
    "peaks['area_fraction_top'] = peaks['area_per_channel'][:,3] / peaks['area']\n",
    "\n",
    "# append empty fields for the properties that are to be computed.\n",
    "events = append_fields(events,'drift_time',np.zeros([n_events]))\n",
    "events = append_fields(events,'s1_and_s2',np.zeros([n_events], dtype=np.bool))\n",
    "\n",
    "events = append_fields(events,'s1_area',np.zeros([n_events]))\n",
    "events = append_fields(events,'s1_width',np.zeros([n_events]))\n",
    "events = append_fields(events,'s1_mid',np.zeros([n_events]))\n",
    "events = append_fields(events,'s1_area_fraction_top',np.zeros([n_events]))\n",
    "\n",
    "events = append_fields(events,'s2_area',np.zeros([n_events]))\n",
    "events = append_fields(events,'s2_width',np.zeros([n_events]))\n",
    "events = append_fields(events,'s2_mid',np.zeros([n_events]))\n",
    "events = append_fields(events,'s2_area_fraction_top',np.zeros([n_events]))"
   ]
  },
  {
   "cell_type": "code",
   "execution_count": 4,
   "metadata": {
    "collapsed": true
   },
   "outputs": [],
   "source": [
    "# Group peaks by event\n",
    "peaks_per_event = fn.group_by(peaks, 'Event')\n",
    "\n",
    "# Get the main s1 / s2 of an event\n",
    "# This funciton is in here because it needs the list defined above, and we may want to change the S1/S2 classification\n",
    "def get_main_peak(event_nr, peak_type):\n",
    "    pks = peaks_per_event[event_nr]\n",
    "    \n",
    "    if peak_type != 's1' and peak_type != 's2':\n",
    "        print('Sytax error')\n",
    "    # S1 properties\n",
    "    if peak_type == 's1':\n",
    "        # 'Default' from processer\n",
    "        # pks = pks[pks['type'] == b's1' ]\n",
    "        \n",
    "        # Make sure both channels contribute\n",
    "        pks = pks[pks['does_channel_contribute'][:,0]]\n",
    "        pks = pks[pks['does_channel_contribute'][:,3]]\n",
    "        # Width cut\n",
    "        pks = pks[(pks['right']-pks['left']) * fn.dt < 400]\n",
    "        \n",
    "    # S2 properties\n",
    "    if peak_type == 's2':\n",
    "        # 'Default' from processer\n",
    "        # pks = pks[pks['type'] == b's2' ]\n",
    "        \n",
    "        # Make sure both channels contribute\n",
    "        pks = pks[pks['does_channel_contribute'][:,0]]\n",
    "        pks = pks[pks['does_channel_contribute'][:,3]]\n",
    "        # Width cut\n",
    "        pks = pks[(pks['right']-pks['left']) * fn.dt > 400]\n",
    "        \n",
    "    \n",
    "    if len(pks):\n",
    "        return max(pks, key=lambda x:x['area'])\n",
    "    else:\n",
    "        return None"
   ]
  },
  {
   "cell_type": "code",
   "execution_count": 9,
   "metadata": {
    "collapsed": false
   },
   "outputs": [
    {
     "ename": "KeyboardInterrupt",
     "evalue": "",
     "output_type": "error",
     "traceback": [
      "\u001b[1;31m---------------------------------------------------------------------------\u001b[0m",
      "\u001b[1;31mKeyboardInterrupt\u001b[0m                         Traceback (most recent call last)",
      "\u001b[1;32m<ipython-input-9-dccd737b3e7d>\u001b[0m in \u001b[0;36m<module>\u001b[1;34m()\u001b[0m\n\u001b[0;32m     11\u001b[0m     \u001b[0mcounter_s1_and_s2\u001b[0m \u001b[1;33m+=\u001b[0m\u001b[1;36m1\u001b[0m\u001b[1;33m\u001b[0m\u001b[0m\n\u001b[0;32m     12\u001b[0m     \u001b[0mevents\u001b[0m\u001b[1;33m[\u001b[0m\u001b[1;34m's1_and_s2'\u001b[0m\u001b[1;33m]\u001b[0m\u001b[1;33m[\u001b[0m\u001b[0me\u001b[0m\u001b[1;33m]\u001b[0m \u001b[1;33m=\u001b[0m \u001b[1;32mTrue\u001b[0m\u001b[1;33m\u001b[0m\u001b[0m\n\u001b[1;32m---> 13\u001b[1;33m     \u001b[0mevents\u001b[0m\u001b[1;33m[\u001b[0m\u001b[1;34m'drift_time'\u001b[0m\u001b[1;33m]\u001b[0m \u001b[1;33m=\u001b[0m \u001b[0mmain_s2\u001b[0m\u001b[1;33m[\u001b[0m\u001b[1;34m'mid'\u001b[0m\u001b[1;33m]\u001b[0m \u001b[1;33m-\u001b[0m \u001b[0mmain_s1\u001b[0m\u001b[1;33m[\u001b[0m\u001b[1;34m'mid'\u001b[0m\u001b[1;33m]\u001b[0m\u001b[1;33m\u001b[0m\u001b[0m\n\u001b[0m\u001b[0;32m     14\u001b[0m \u001b[1;33m\u001b[0m\u001b[0m\n\u001b[0;32m     15\u001b[0m     \u001b[0mevents\u001b[0m\u001b[1;33m[\u001b[0m\u001b[1;34m's1_area'\u001b[0m\u001b[1;33m]\u001b[0m\u001b[1;33m[\u001b[0m\u001b[0me\u001b[0m\u001b[1;33m]\u001b[0m \u001b[1;33m=\u001b[0m \u001b[0mmain_s1\u001b[0m\u001b[1;33m[\u001b[0m\u001b[1;34m'area'\u001b[0m\u001b[1;33m]\u001b[0m\u001b[1;33m\u001b[0m\u001b[0m\n",
      "\u001b[1;31mKeyboardInterrupt\u001b[0m: "
     ]
    }
   ],
   "source": [
    "counter_s1_and_s2 = 0\n",
    "peaks['area_fraction_top'] = peaks['area_per_channel'][:,3] / peaks['area']\n",
    "# Main loop.\n",
    "for e in np.arange(len(events)):\n",
    "    main_s1 = get_main_peak(e, 's1')\n",
    "    main_s2 = get_main_peak(e, 's2')\n",
    "    if not (main_s1 and main_s2):\n",
    "    # If event is missing one of the main peak types, move on\n",
    "        continue\n",
    "    # We have an S1 and an S2! Increase counter and compute properties\n",
    "    counter_s1_and_s2 +=1\n",
    "    events['s1_and_s2'][e] = True\n",
    "    events['drift_time'] = main_s2['mid'] - main_s1['mid']\n",
    "    \n",
    "    events['s1_area'][e] = main_s1['area']\n",
    "    events['s1_width'][e] = main_s1['width']\n",
    "    events['s1_mid'][e] = main_s1['mid']\n",
    "    events['s1_area_fraction_top'] = main_s1['area_fraction_top']\n",
    "    events['s2_area'][e] = main_s2['area']\n",
    "    events['s2_width'][e] = main_s2['width']\n",
    "    events['s2_mid'][e] = main_s2['mid']\n",
    "    events['s2_area_fraction_top'] = main_s2['area_fraction_top']\n",
    "#     s1_area = main_s1['area']\n",
    "#     s2_width = fn.dt*(main_s2['right']-main_s2['left'])\n",
    "#     s2_area= main_s2['area']\n",
    "#     drift_time = fn.dt * (main_s2['index_of_maximum'] - main_s1['index_of_maximum'])\n",
    "#     timestamp = events['start_time'][e]/(1e9)\n",
    "#     s1_area_fraction =( main_s1['area_per_channel'][3] / (main_s1['area_per_channel'][0] + main_s1['area_per_channel'][3]))\n",
    "#     s2_area_fraction =( main_s2['area_per_channel'][3] / (main_s2['area_per_channel'][0] + main_s2['area_per_channel'][3]))"
   ]
  },
  {
   "cell_type": "code",
   "execution_count": 13,
   "metadata": {
    "collapsed": false
   },
   "outputs": [],
   "source": [
    "# Add full_range peak width\n",
    "peaks = append_fields(peaks, 'full_range', (peaks['right'] - peaks['left'] + 1)*fn.dt)"
   ]
  },
  {
   "cell_type": "code",
   "execution_count": 8,
   "metadata": {
    "collapsed": false
   },
   "outputs": [
    {
     "data": {
      "text/plain": [
       "<function matplotlib.pyplot.show>"
      ]
     },
     "execution_count": 8,
     "metadata": {},
     "output_type": "execute_result"
    },
    {
     "data": {
      "image/png": "[encoded data removed]",
      "text/plain": [
       "<matplotlib.figure.Figure at 0x6a11b38>"
      ]
     },
     "metadata": {},
     "output_type": "display_data"
    }
   ],
   "source": [
    "plt.hist(events['start_time'])\n",
    "plt.show"
   ]
  },
  {
   "cell_type": "code",
   "execution_count": 9,
   "metadata": {
    "collapsed": false
   },
   "outputs": [
    {
     "data": {
      "text/plain": [
       "<function matplotlib.pyplot.show>"
      ]
     },
     "execution_count": 9,
     "metadata": {},
     "output_type": "execute_result"
    },
    {
     "data": {
      "image/png": "[encoded data removed]",
      "text/plain": [
       "<matplotlib.figure.Figure at 0x6a11518>"
      ]
     },
     "metadata": {},
     "output_type": "display_data"
    }
   ],
   "source": [
    "plt.hist(events[events['s1_and_s2']]['start_time'])\n",
    "plt.show"
   ]
  },
  {
   "cell_type": "code",
   "execution_count": 7,
   "metadata": {
    "collapsed": false
   },
   "outputs": [
    {
     "data": {
      "text/plain": [
       "('Event',\n",
       " 'Peak',\n",
       " 'area',\n",
       " 'area_fraction_top',\n",
       " 'area_per_channel',\n",
       " 'bottom_hitpattern_spread',\n",
       " 'detector',\n",
       " 'does_channel_contribute',\n",
       " 'does_channel_have_noise',\n",
       " 'height',\n",
       " 'hit_time_mean',\n",
       " 'hit_time_std',\n",
       " 'index_of_maximum',\n",
       " 'left',\n",
       " 'median_absolute_deviation',\n",
       " 'right',\n",
       " 'top_hitpattern_spread',\n",
       " 'type',\n",
       " 'full_range')"
      ]
     },
     "execution_count": 7,
     "metadata": {},
     "output_type": "execute_result"
    }
   ],
   "source": [
    "peaks.dtype.names"
   ]
  },
  {
   "cell_type": "code",
   "execution_count": 13,
   "metadata": {
    "collapsed": false
   },
   "outputs": [
    {
     "data": {
      "image/png": "[encoded data removed]",
      "text/plain": [
       "<matplotlib.figure.Figure at 0x7ed8e10>"
      ]
     },
     "metadata": {},
     "output_type": "display_data"
    }
   ],
   "source": [
    "plt.hist((peaks['area_fraction_top'],peaks['area_per_channel'][:,3]/peaks['area']),bins =100 )\n",
    "plt.show()"
   ]
  },
  {
   "cell_type": "code",
   "execution_count": 11,
   "metadata": {
    "collapsed": false
   },
   "outputs": [
    {
     "data": {
      "text/plain": [
       "array([ 83783.,  83738.,  83768., ...,  83767.,  83752.,  83724.])"
      ]
     },
     "execution_count": 11,
     "metadata": {},
     "output_type": "execute_result"
    }
   ],
   "source": [
    "peaks['mid']"
   ]
  },
  {
   "cell_type": "code",
   "execution_count": 19,
   "metadata": {
    "collapsed": false
   },
   "outputs": [
    {
     "name": "stdout",
     "output_type": "stream",
     "text": []
    }
   ],
   "source": [
    "for i in tqdm(range(10000)):\n",
    "    1+1"
   ]
  },
  {
   "cell_type": "code",
   "execution_count": null,
   "metadata": {
    "collapsed": true
   },
   "outputs": [],
   "source": []
  }
 ],
 "metadata": {
  "kernelspec": {
   "display_name": "Python 3",
   "language": "python",
   "name": "python3"
  },
  "language_info": {
   "codemirror_mode": {
    "name": "ipython",
    "version": 3
   },
   "file_extension": ".py",
   "mimetype": "text/x-python",
   "name": "python",
   "nbconvert_exporter": "python",
   "pygments_lexer": "ipython3",
   "version": "3.4.1"
  }
 },
 "nbformat": 4,
 "nbformat_minor": 0
}
