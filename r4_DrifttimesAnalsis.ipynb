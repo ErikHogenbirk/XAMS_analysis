{
 "metadata": {
  "name": "",
  "signature": "sha256:3490e75264f91abcc34d09a1d3f4d813114f5bc95f4aa78799951ea18838d4f0"
 },
 "nbformat": 3,
 "nbformat_minor": 0,
 "worksheets": [
  {
   "cells": [
    {
     "cell_type": "code",
     "collapsed": false,
     "input": [
      "# Notebookloader is needed to import ipython notebooks as python modules.\n",
      "import NotebookLoader\n",
      "\n",
      "import Function_definitions as fn\n",
      "#import functions as fn\n",
      "\n",
      "import numpy as np\n",
      "import matplotlib.pyplot as plt\n",
      "%matplotlib inline\n",
      "import h5py\n",
      "import units\n",
      "# from numpy.lib.recfunctions import append_fields"
     ],
     "language": "python",
     "metadata": {},
     "outputs": [
      {
       "output_type": "stream",
       "stream": "stdout",
       "text": [
        "importing IPython notebook from Function_definitions.ipynb\n"
       ]
      }
     ],
     "prompt_number": 2
    },
    {
     "cell_type": "code",
     "collapsed": false,
     "input": [
      "# Open sample files for varying drifttime\n",
      "store = h5py.File('/Users/mariabader/XAMS_analysis/run5_hdf/run-5_measurement-015.hdf5') \n",
      "\n"
     ],
     "language": "python",
     "metadata": {},
     "outputs": [],
     "prompt_number": 3
    },
    {
     "cell_type": "code",
     "collapsed": false,
     "input": [
      "# Slurp all events and peaks in to memory\n",
      "events = store['Event'][:]\n",
      "peaks = store['Peak'][:]\n",
      "print(\"Number of events: \",len(events))"
     ],
     "language": "python",
     "metadata": {},
     "outputs": [
      {
       "output_type": "stream",
       "stream": "stdout",
       "text": [
        "('Number of events: ', 692)\n"
       ]
      }
     ],
     "prompt_number": 4
    },
    {
     "cell_type": "code",
     "collapsed": false,
     "input": [
      "# Group peaks by event\n",
      "peaks_per_event = fn.group_by(peaks, 'Event')\n",
      "# Get the main s1 / s2 of an event\n",
      "# This funciton is in here because it needs the list defined above, and we may want to change the S1/S2 classification\n",
      "def get_main_peak(event_nr, peak_type):\n",
      "    pks = peaks_per_event[event_nr]\n",
      "    pks = pks[pks['type'] == peak_type]\n",
      "    if len(pks):\n",
      "        return max(pks, key=lambda x:x['area'])\n",
      "    else:\n",
      "        return None"
     ],
     "language": "python",
     "metadata": {},
     "outputs": [],
     "prompt_number": 5
    },
    {
     "cell_type": "code",
     "collapsed": false,
     "input": [
      "# ==== Initialize lists ==== #\n",
      "# Initialize all the lists to be filled. We use these lists later to generate awesome plots\n",
      "\n",
      "# Make lists with relevant parameters\n",
      "# These are lists for all ACCEPTED events, i.e. containint S1 and S2 and meeting some conditions\n",
      "# Conventions here: - If we're talking about s1 or s2, start with s1_ or s2_\n",
      "#                   - Then, add the parameter that it contains\n",
      "#                   - If we have more than one element, use plural. \n",
      "#                        Example: s1_area is the area of ONE s1, s1_areas contains multiple\n",
      "#                   - Use lower case\n",
      "\n",
      "\n",
      "drift_times = []\n",
      "\n",
      "# We count the numbers of events at different points, to see what we cut out\n",
      "counter_events = len(events)\n",
      "counter_s1_and_s2 = 0\n",
      "counter_accepted = 0\n",
      "\n",
      "# Main loop: loop over all events and compute properties, but only if it contains at least one S1 and at least one S2\n",
      "for e in np.arange(len(events)):\n",
      "    main_s1 = get_main_peak(e, b's1')\n",
      "    main_s2 = get_main_peak(e, b's2')\n",
      "    if not (main_s1 and main_s2):\n",
      "        # If event is missing one of the main peak types, move on\n",
      "        continue\n",
      "    # We have an S1 and an S2! Increase counter and compute properties\n",
      "    counter_s1_and_s2 +=1\n",
      "    # not the best way to calculate\n",
      "    drift_time = fn.dt * (main_s2['index_of_maximum'] - main_s1['index_of_maximum'])\n",
      "    # -- This is a good place for cuts --#\n",
      "    #Cut for events happening at the cathode (blue events)\n",
      "    if (s1_area_fraction<0.2 and s2_area_fraction <0.2) :\n",
      "        continue\n",
      "    # If we pass the cut, store the parameters\n",
      "    counter_accepted +=1\n",
      "    drift_times.append(drift_time)\n",
      "\n",
      "drift_times = np.array(drift_times)\n",
      "\n",
      "print('Number of events: %d (%.2f%%)' % (counter_events, counter_events/counter_events*100))\n",
      "print('With S1 and S1:   %d (%.2f%%)' % (counter_s1_and_s2, float(counter_s1_and_s2)/counter_events*100))\n",
      "print('Accepted:         %d (%.2f%%)' % (counter_accepted, float(counter_accepted)/counter_events*100))\n",
      "\n"
     ],
     "language": "python",
     "metadata": {},
     "outputs": [
      {
       "output_type": "stream",
       "stream": "stdout",
       "text": [
        "Number of events: 692 (100.00%)\n",
        "With S1 and S1:   594 (85.84%)\n",
        "Accepted:         594 (85.84%)\n"
       ]
      }
     ],
     "prompt_number": 10
    },
    {
     "cell_type": "code",
     "collapsed": false,
     "input": [
      "## Example to get the maximum drifttime for an event:\n",
      "# A percentile (or a centile) is a measure used in statistics indicating the value below which a given percentage of observations in a group of observations fall. \n",
      "# For example, the 20th percentile is the value (or score) below which 20 percent of the observations may be found.\n",
      "print np.percentile(drift_times/ units.us, 99)\n",
      "\n",
      "# Do this for every event\n"
     ],
     "language": "python",
     "metadata": {},
     "outputs": [
      {
       "output_type": "stream",
       "stream": "stdout",
       "text": [
        "62.26136\n"
       ]
      }
     ],
     "prompt_number": 11
    },
    {
     "cell_type": "code",
     "collapsed": false,
     "input": [
      "## ==== Analysis gas events run 4 ==== ##\n",
      "\n",
      "# Measurements: 009 - 019 (015 & 016 are excluded)\n",
      "\n",
      "#Drift field configuration and drift times, filled in manually\n",
      "driftfields = np.array([0.5, 0.93, 1.0, 1.5, 2, 2.5, 3.0, 3.5, 4.0]) #kV\n",
      "drifttimes = np.array([131.43, 113.62, 112.06, 104.86, 99.80, 96.32,  92.87, 90.23, 88.03]) #us\n",
      "pressure = 2.833 #bar\n",
      "\n",
      "driftvelocity = []\n",
      "driftfield_weird_unit = []\n",
      "\n",
      "for e in np.arange(len(drifttimes)):\n",
      "    v = 10 /drifttimes[e] /(0.000001)#cm/s\n",
      "    driftvelocity.append(v)\n",
      "    \n",
      "    field = driftfields[e] *1000 /10 /(pressure * 750.06)#V/cm/Torr\n",
      "    driftfield_weird_unit.append(field)\n",
      "\n",
      "driftvelocity = np.array(driftvelocity)\n",
      "driftfield_weird_unit = np.array(driftfield_weird_unit)\n",
      "\n",
      "plt.figure(figsize= (16,8))\n",
      "plt.plot(driftfield_weird_unit, driftvelocity)\n",
      "\n",
      "plt.ylabel('Driftvelocity [cm/s]')\n",
      "plt.xlabel('E/p [V/cm/Torr]')\n",
      "plt.xscale('log')\n"
     ],
     "language": "python",
     "metadata": {},
     "outputs": [
      {
       "metadata": {},
       "output_type": "display_data",
       "png": "[encoded data removed]",
       "text": [
        "<matplotlib.figure.Figure at 0x10f06cdd0>"
       ]
      }
     ],
     "prompt_number": 12
    },
    {
     "cell_type": "code",
     "collapsed": false,
     "input": [],
     "language": "python",
     "metadata": {},
     "outputs": [],
     "prompt_number": 0
    },
    {
     "cell_type": "code",
     "collapsed": false,
     "input": [],
     "language": "python",
     "metadata": {},
     "outputs": [],
     "prompt_number": 0
    },
    {
     "cell_type": "code",
     "collapsed": false,
     "input": [],
     "language": "python",
     "metadata": {},
     "outputs": [],
     "prompt_number": 0
    },
    {
     "cell_type": "code",
     "collapsed": false,
     "input": [],
     "language": "python",
     "metadata": {},
     "outputs": [],
     "prompt_number": 0
    },
    {
     "cell_type": "code",
     "collapsed": false,
     "input": [],
     "language": "python",
     "metadata": {},
     "outputs": [],
     "prompt_number": 0
    },
    {
     "cell_type": "code",
     "collapsed": false,
     "input": [],
     "language": "python",
     "metadata": {},
     "outputs": [],
     "prompt_number": 0
    },
    {
     "cell_type": "code",
     "collapsed": false,
     "input": [],
     "language": "python",
     "metadata": {},
     "outputs": [],
     "prompt_number": 0
    },
    {
     "cell_type": "code",
     "collapsed": false,
     "input": [],
     "language": "python",
     "metadata": {},
     "outputs": [],
     "prompt_number": 102
    },
    {
     "cell_type": "code",
     "collapsed": false,
     "input": [],
     "language": "python",
     "metadata": {},
     "outputs": [],
     "prompt_number": 90
    },
    {
     "cell_type": "code",
     "collapsed": false,
     "input": [],
     "language": "python",
     "metadata": {},
     "outputs": [],
     "prompt_number": 90
    },
    {
     "cell_type": "code",
     "collapsed": false,
     "input": [],
     "language": "python",
     "metadata": {},
     "outputs": [],
     "prompt_number": 90
    },
    {
     "cell_type": "code",
     "collapsed": false,
     "input": [],
     "language": "python",
     "metadata": {},
     "outputs": [],
     "prompt_number": 90
    },
    {
     "cell_type": "code",
     "collapsed": false,
     "input": [],
     "language": "python",
     "metadata": {},
     "outputs": [],
     "prompt_number": 39
    }
   ],
   "metadata": {}
  }
 ]
}